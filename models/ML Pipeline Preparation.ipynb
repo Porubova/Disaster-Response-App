{
 "cells": [
  {
   "cell_type": "markdown",
   "metadata": {},
   "source": [
    "# ML Pipeline Preparation\n",
    "Follow the instructions below to help you create your ML pipeline.\n",
    "### 1. Import libraries and load data from database.\n",
    "- Import Python libraries\n",
    "- Load dataset from database with [`read_sql_table`](https://pandas.pydata.org/pandas-docs/stable/generated/pandas.read_sql_table.html)\n",
    "- Define feature and target variables X and Y"
   ]
  },
  {
   "cell_type": "code",
   "execution_count": 1,
   "metadata": {},
   "outputs": [
    {
     "name": "stderr",
     "output_type": "stream",
     "text": [
      "[nltk_data] Downloading package punkt to /home/anna/nltk_data...\n",
      "[nltk_data]   Package punkt is already up-to-date!\n",
      "[nltk_data] Downloading package wordnet to /home/anna/nltk_data...\n",
      "[nltk_data]   Package wordnet is already up-to-date!\n"
     ]
    },
    {
     "data": {
      "text/plain": [
       "True"
      ]
     },
     "execution_count": 1,
     "metadata": {},
     "output_type": "execute_result"
    }
   ],
   "source": [
    "# download necessary NLTK data\n",
    "import nltk\n",
    "nltk.download(['punkt', 'wordnet'])"
   ]
  },
  {
   "cell_type": "code",
   "execution_count": 2,
   "metadata": {},
   "outputs": [],
   "source": [
    "# import libraries\n",
    "import pandas as pd\n",
    "import re\n",
    "import numpy as np\n",
    "from time import time\n",
    "from nltk.tokenize import word_tokenize\n",
    "from nltk.stem import WordNetLemmatizer\n",
    "from sqlalchemy import create_engine\n",
    "from sklearn.multioutput import MultiOutputClassifier\n",
    "from sklearn.neighbors import KNeighborsClassifier\n",
    "from sklearn.pipeline import Pipeline\n",
    "from sklearn.model_selection import train_test_split\n",
    "from sklearn.ensemble import RandomForestClassifier\n",
    "from sklearn.metrics import classification_report\n",
    "from sklearn.feature_extraction.text import CountVectorizer, TfidfTransformer\n",
    "from sklearn.model_selection import GridSearchCV\n",
    "from sklearn.linear_model import RidgeClassifier\n",
    "from sklearn import metrics\n",
    "from sklearn.metrics import precision_score\n",
    "from sklearn.feature_extraction.text import HashingVectorizer\n",
    "from sklearn.multiclass import OneVsRestClassifier\n",
    "from sklearn.svm import LinearSVC"
   ]
  },
  {
   "cell_type": "code",
   "execution_count": 4,
   "metadata": {},
   "outputs": [],
   "source": [
    "# load data from database\n",
    "def load_data():\n",
    "    \"\"\"Function reads sql database into pandas dataframe and splits into \n",
    "    input and output variables\n",
    "    Args:\n",
    "    None\n",
    "\n",
    "    Returns:\n",
    "    X -> input variable\n",
    "    y -> output variables\n",
    "    \"\"\" \n",
    "    engine = create_engine('sqlite:///InsertDatabaseName.db')\n",
    "    df = pd.read_sql(\"SELECT * FROM InsertTableName\", engine)\n",
    "    X = df['message']\n",
    "    y = df[df.columns[4:]]\n",
    "    \n",
    "    return X, y\n",
    "X,y = load_data()\n"
   ]
  },
  {
   "cell_type": "code",
   "execution_count": 5,
   "metadata": {},
   "outputs": [
    {
     "data": {
      "text/plain": [
       "36"
      ]
     },
     "execution_count": 5,
     "metadata": {},
     "output_type": "execute_result"
    }
   ],
   "source": [
    "labels = list(y.columns)\n",
    "len(labels)"
   ]
  },
  {
   "cell_type": "markdown",
   "metadata": {},
   "source": [
    "### 2. Write a tokenization function to process your text data"
   ]
  },
  {
   "cell_type": "code",
   "execution_count": 6,
   "metadata": {},
   "outputs": [],
   "source": [
    "def tokenize(text):\n",
    "    \n",
    "    text = re.sub(r\"[^a-zA-Z0-9]\", \" \", text) \n",
    "\n",
    "    tokens = word_tokenize(text)\n",
    "    lemmatizer = WordNetLemmatizer()\n",
    "\n",
    "    clean_tokens = []\n",
    "    for tok in tokens:\n",
    "        clean_tok = lemmatizer.lemmatize(tok).lower().strip()\n",
    "        clean_tokens.append(clean_tok)\n",
    "\n",
    "    return clean_tokens"
   ]
  },
  {
   "cell_type": "code",
   "execution_count": 7,
   "metadata": {},
   "outputs": [
    {
     "name": "stdout",
     "output_type": "stream",
     "text": [
      "Weather update - a cold front from Cuba that could pass over Haiti\n",
      "['weather', 'update', 'a', 'cold', 'front', 'from', 'cuba', 'that', 'could', 'pas', 'over', 'haiti'] \n",
      "\n",
      "Is the Hurricane over or is it not over\n",
      "['is', 'the', 'hurricane', 'over', 'or', 'is', 'it', 'not', 'over'] \n",
      "\n",
      "Looking for someone but no name\n",
      "['looking', 'for', 'someone', 'but', 'no', 'name'] \n",
      "\n",
      "UN reports Leogane 80-90 destroyed. Only Hospital St. Croix functioning. Needs supplies desperately.\n",
      "['un', 'report', 'leogane', '80', '90', 'destroyed', 'only', 'hospital', 'st', 'croix', 'functioning', 'needs', 'supply', 'desperately'] \n",
      "\n",
      "says: west side of Haiti, rest of the country today and tonight\n",
      "['say', 'west', 'side', 'of', 'haiti', 'rest', 'of', 'the', 'country', 'today', 'and', 'tonight'] \n",
      "\n"
     ]
    }
   ],
   "source": [
    "for message in X[:5]:\n",
    "    tokens = tokenize(message)\n",
    "    print(message)\n",
    "    print(tokens, '\\n')"
   ]
  },
  {
   "cell_type": "markdown",
   "metadata": {},
   "source": [
    "### 3. Build a machine learning pipeline\n",
    "This machine pipeline should take in the `message` column as input and output classification results on the other 36 categories in the dataset. You may find the [MultiOutputClassifier](http://scikit-learn.org/stable/modules/generated/sklearn.multioutput.MultiOutputClassifier.html) helpful for predicting multiple target variables."
   ]
  },
  {
   "cell_type": "code",
   "execution_count": 8,
   "metadata": {},
   "outputs": [],
   "source": [
    "# Define a pipeline combining a text feature extractor with a MultiOutputClassifier\n",
    "pipeline = Pipeline([\n",
    "        ('vect', CountVectorizer(tokenizer=tokenize)),\n",
    "        ('tfidf', TfidfTransformer()),\n",
    "        ('clf' , MultiOutputClassifier(RandomForestClassifier()))\n",
    "    ])"
   ]
  },
  {
   "cell_type": "markdown",
   "metadata": {},
   "source": [
    "### 4. Train pipeline\n",
    "- Split data into train and test sets\n",
    "- Train pipeline"
   ]
  },
  {
   "cell_type": "code",
   "execution_count": 9,
   "metadata": {},
   "outputs": [],
   "source": [
    "#Split data into train and test sets\n",
    "X_train, X_test, y_train, y_test = train_test_split(X, y)\n",
    "# train classifier\n",
    "pipeline.fit(X_train, y_train)\n",
    "\n",
    "# predict on test data\n",
    "y_pred = pipeline.predict(X_test)"
   ]
  },
  {
   "cell_type": "markdown",
   "metadata": {},
   "source": [
    "### 5. Test your model\n",
    "Report the f1 score, precision and recall for each output category of the dataset. You can do this by iterating through the columns and calling sklearn's `classification_report` on each."
   ]
  },
  {
   "cell_type": "code",
   "execution_count": 10,
   "metadata": {},
   "outputs": [
    {
     "name": "stdout",
     "output_type": "stream",
     "text": [
      "                                 precision    recall  f1-score   support\n",
      "\n",
      "               related_category       0.81      0.97      0.89      4984\n",
      "               request_category       0.90      0.44      0.59      1135\n",
      "                 offer_category       0.00      0.00      0.00        21\n",
      "           aid_related_category       0.77      0.64      0.70      2690\n",
      "          medical_help_category       0.59      0.06      0.10       518\n",
      "      medical_products_category       0.71      0.05      0.10       322\n",
      "     search_and_rescue_category       1.00      0.04      0.07       181\n",
      "              security_category       0.40      0.02      0.03       121\n",
      "              military_category       0.73      0.03      0.07       231\n",
      "           child_alone_category       0.00      0.00      0.00         0\n",
      "                 water_category       0.87      0.28      0.42       435\n",
      "                  food_category       0.88      0.46      0.60       747\n",
      "               shelter_category       0.87      0.25      0.39       542\n",
      "              clothing_category       0.60      0.06      0.11        95\n",
      "                 money_category       0.67      0.02      0.05       161\n",
      "        missing_people_category       0.50      0.01      0.03        74\n",
      "              refugees_category       0.33      0.01      0.03       223\n",
      "                 death_category       0.88      0.10      0.18       304\n",
      "             other_aid_category       0.53      0.01      0.02       812\n",
      "infrastructure_related_category       0.00      0.00      0.00       414\n",
      "             transport_category       0.83      0.07      0.12       291\n",
      "             buildings_category       0.89      0.10      0.18       329\n",
      "           electricity_category       1.00      0.04      0.07       130\n",
      "                 tools_category       0.00      0.00      0.00        40\n",
      "             hospitals_category       0.00      0.00      0.00        70\n",
      "                 shops_category       0.00      0.00      0.00        24\n",
      "           aid_centers_category       0.00      0.00      0.00        79\n",
      "  other_infrastructure_category       0.00      0.00      0.00       293\n",
      "       weather_related_category       0.86      0.64      0.73      1793\n",
      "                floods_category       0.94      0.39      0.55       550\n",
      "                 storm_category       0.77      0.44      0.56       594\n",
      "                  fire_category       0.00      0.00      0.00        75\n",
      "            earthquake_category       0.90      0.76      0.83       611\n",
      "                  cold_category       0.67      0.06      0.11       131\n",
      "         other_weather_category       0.70      0.02      0.04       351\n",
      "         direct_report_category       0.85      0.36      0.50      1234\n",
      "\n",
      "                      micro avg       0.82      0.50      0.62     20605\n",
      "                      macro avg       0.57      0.18      0.22     20605\n",
      "                   weighted avg       0.76      0.50      0.55     20605\n",
      "                    samples avg       0.69      0.47      0.52     20605\n",
      "\n"
     ]
    },
    {
     "name": "stderr",
     "output_type": "stream",
     "text": [
      "/home/anna/.local/lib/python3.7/site-packages/sklearn/metrics/_classification.py:1272: UndefinedMetricWarning: Precision and F-score are ill-defined and being set to 0.0 in labels with no predicted samples. Use `zero_division` parameter to control this behavior.\n",
      "  _warn_prf(average, modifier, msg_start, len(result))\n",
      "/home/anna/.local/lib/python3.7/site-packages/sklearn/metrics/_classification.py:1272: UndefinedMetricWarning: Recall and F-score are ill-defined and being set to 0.0 in labels with no true samples. Use `zero_division` parameter to control this behavior.\n",
      "  _warn_prf(average, modifier, msg_start, len(result))\n",
      "/home/anna/.local/lib/python3.7/site-packages/sklearn/metrics/_classification.py:1272: UndefinedMetricWarning: Precision and F-score are ill-defined and being set to 0.0 in samples with no predicted labels. Use `zero_division` parameter to control this behavior.\n",
      "  _warn_prf(average, modifier, msg_start, len(result))\n",
      "/home/anna/.local/lib/python3.7/site-packages/sklearn/metrics/_classification.py:1272: UndefinedMetricWarning: Recall and F-score are ill-defined and being set to 0.0 in samples with no true labels. Use `zero_division` parameter to control this behavior.\n",
      "  _warn_prf(average, modifier, msg_start, len(result))\n"
     ]
    }
   ],
   "source": [
    "# calculate and print classification performance for each category\n",
    "print(classification_report(y_test.values,y_pred,target_names =labels))"
   ]
  },
  {
   "cell_type": "markdown",
   "metadata": {},
   "source": [
    "### 6. Improve your model\n",
    "Use grid search to find better parameters. "
   ]
  },
  {
   "cell_type": "code",
   "execution_count": 20,
   "metadata": {},
   "outputs": [],
   "source": [
    "# check available parameters to tune\n",
    "pipeine_parms = pipeline.get_params()\n",
    "#pipeine_parms"
   ]
  },
  {
   "cell_type": "code",
   "execution_count": 11,
   "metadata": {},
   "outputs": [],
   "source": [
    "parameters = {\n",
    "    #'vect__max_df': (0.5, 0.75),\n",
    "    #'vect__max_features': (None, 5000, 10000, 50000),\n",
    "    'vect__ngram_range': ((1, 1), (1, 2)),  # unigrams or bigrams\n",
    "    #'tfidf__use_idf': (True, False),\n",
    "    'tfidf__norm': ('l1', 'l2'),\n",
    "    #'clf__estimator__n_estimators': [10]\n",
    "   \n",
    "}\n",
    "#find the best parameters for both the feature extraction and the\n",
    "# classifier\n",
    "cv = GridSearchCV(estimator=pipeline, param_grid=parameters, \n",
    "                  cv=3,n_jobs=-1,verbose=10)"
   ]
  },
  {
   "cell_type": "code",
   "execution_count": 12,
   "metadata": {
    "scrolled": false
   },
   "outputs": [
    {
     "name": "stdout",
     "output_type": "stream",
     "text": [
      "Performing grid search...\n",
      "pipeline: ['vect', 'tfidf', 'clf']\n",
      "parameters:\n",
      "{'vect__ngram_range': ((1, 1), (1, 2)), 'tfidf__norm': ('l1', 'l2')}\n",
      "Fitting 3 folds for each of 4 candidates, totalling 12 fits\n"
     ]
    },
    {
     "name": "stderr",
     "output_type": "stream",
     "text": [
      "[Parallel(n_jobs=-1)]: Using backend LokyBackend with 12 concurrent workers.\n",
      "[Parallel(n_jobs=-1)]: Done   1 tasks      | elapsed:  4.8min\n",
      "[Parallel(n_jobs=-1)]: Done   3 out of  12 | elapsed:  4.9min remaining: 14.6min\n",
      "[Parallel(n_jobs=-1)]: Done   5 out of  12 | elapsed:  5.0min remaining:  7.0min\n",
      "[Parallel(n_jobs=-1)]: Done   7 out of  12 | elapsed: 15.6min remaining: 11.1min\n",
      "[Parallel(n_jobs=-1)]: Done   9 out of  12 | elapsed: 15.8min remaining:  5.3min\n",
      "[Parallel(n_jobs=-1)]: Done  12 out of  12 | elapsed: 16.2min finished\n"
     ]
    },
    {
     "name": "stdout",
     "output_type": "stream",
     "text": [
      "done in 1412.354s\n",
      "\n",
      "Best score: 0.248\n",
      "Best parameters set:\n",
      "\ttfidf__norm: 'l2'\n",
      "\tvect__ngram_range: (1, 1)\n"
     ]
    }
   ],
   "source": [
    "print(\"Performing grid search...\")\n",
    "print(\"pipeline:\", [name for name, _ in pipeline.steps])\n",
    "print(\"parameters:\")\n",
    "print(parameters)\n",
    "t0 = time()\n",
    "\n",
    "# train classifier\n",
    "cv.fit(X_train, y_train)\n",
    "print(\"done in %0.3fs\" % (time() - t0))\n",
    "print()\n",
    "print(\"Best score: %0.3f\" % cv.best_score_)\n",
    "print(\"Best parameters set:\")\n",
    "best_parameters = cv.best_estimator_.get_params()\n",
    "for param_name in sorted(parameters.keys()):\n",
    "    print(\"\\t%s: %r\" % (param_name, best_parameters[param_name]))"
   ]
  },
  {
   "cell_type": "markdown",
   "metadata": {},
   "source": [
    "### 7. Test your model\n",
    "Show the accuracy, precision, and recall of the tuned model.  \n",
    "\n",
    "Since this project focuses on code quality, process, and  pipelines, there is no minimum performance metric needed to pass. However, make sure to fine tune your models for accuracy, precision and recall to make your project stand out - especially for your portfolio!"
   ]
  },
  {
   "cell_type": "code",
   "execution_count": 23,
   "metadata": {},
   "outputs": [
    {
     "name": "stdout",
     "output_type": "stream",
     "text": [
      "                                 precision    recall  f1-score   support\n",
      "\n",
      "               related_category       0.83      0.93      0.88      5041\n",
      "               request_category       0.85      0.40      0.55      1117\n",
      "                 offer_category       0.00      0.00      0.00        28\n",
      "           aid_related_category       0.78      0.48      0.60      2732\n",
      "          medical_help_category       0.64      0.07      0.13       533\n",
      "      medical_products_category       0.61      0.05      0.10       317\n",
      "     search_and_rescue_category       0.80      0.02      0.04       188\n",
      "              security_category       0.33      0.01      0.02       117\n",
      "              military_category       0.57      0.04      0.07       216\n",
      "           child_alone_category       0.00      0.00      0.00         0\n",
      "                 water_category       0.91      0.27      0.41       433\n",
      "                  food_category       0.85      0.31      0.45       720\n",
      "               shelter_category       0.88      0.24      0.38       556\n",
      "              clothing_category       1.00      0.04      0.08        94\n",
      "                 money_category       1.00      0.01      0.02       171\n",
      "        missing_people_category       1.00      0.03      0.07        88\n",
      "              refugees_category       0.63      0.05      0.09       234\n",
      "                 death_category       0.75      0.13      0.22       304\n",
      "             other_aid_category       0.49      0.03      0.06       860\n",
      "infrastructure_related_category       1.00      0.00      0.00       422\n",
      "             transport_category       0.68      0.06      0.11       325\n",
      "             buildings_category       0.77      0.07      0.13       335\n",
      "           electricity_category       0.64      0.05      0.09       139\n",
      "                 tools_category       0.00      0.00      0.00        34\n",
      "             hospitals_category       0.00      0.00      0.00        71\n",
      "                 shops_category       0.00      0.00      0.00        24\n",
      "           aid_centers_category       0.00      0.00      0.00        71\n",
      "  other_infrastructure_category       0.67      0.01      0.01       294\n",
      "       weather_related_category       0.87      0.48      0.62      1848\n",
      "                floods_category       0.88      0.35      0.50       547\n",
      "                 storm_category       0.78      0.31      0.44       607\n",
      "                  fire_category       1.00      0.01      0.03        69\n",
      "            earthquake_category       0.89      0.60      0.71       620\n",
      "                  cold_category       0.50      0.01      0.03       138\n",
      "         other_weather_category       0.69      0.03      0.05       347\n",
      "         direct_report_category       0.81      0.32      0.45      1278\n",
      "\n",
      "                    avg / total       0.79      0.44      0.50     20918\n",
      "\n"
     ]
    },
    {
     "name": "stderr",
     "output_type": "stream",
     "text": [
      "/opt/conda/lib/python3.6/site-packages/sklearn/metrics/classification.py:1135: UndefinedMetricWarning: Precision and F-score are ill-defined and being set to 0.0 in labels with no predicted samples.\n",
      "  'precision', 'predicted', average, warn_for)\n",
      "/opt/conda/lib/python3.6/site-packages/sklearn/metrics/classification.py:1137: UndefinedMetricWarning: Recall and F-score are ill-defined and being set to 0.0 in labels with no true samples.\n",
      "  'recall', 'true', average, warn_for)\n"
     ]
    }
   ],
   "source": [
    "# predict on test data\n",
    "y_pred =cv.predict(X_test)\n",
    "\n",
    "# calculate and print classification performance for each category\n",
    "print(classification_report(y_test.values,y_pred,target_names =labels))"
   ]
  },
  {
   "cell_type": "code",
   "execution_count": 24,
   "metadata": {},
   "outputs": [
    {
     "name": "stdout",
     "output_type": "stream",
     "text": [
      "Precision score: 0.7741858730679443\n",
      "Accuracy score:0.3994486138765508\n"
     ]
    },
    {
     "name": "stderr",
     "output_type": "stream",
     "text": [
      "/opt/conda/lib/python3.6/site-packages/sklearn/metrics/classification.py:1135: UndefinedMetricWarning: Precision is ill-defined and being set to 0.0 in labels with no predicted samples.\n",
      "  'precision', 'predicted', average, warn_for)\n"
     ]
    }
   ],
   "source": [
    "#calculate the precision and accuracy score\n",
    "\n",
    "print(\"Precision score: {}\".format(precision_score(y_test.values,y_pred,\n",
    "                                                  average='weighted')))\n",
    "print(\"Accuracy score:{}\".format(metrics.accuracy_score(y_test.values,y_pred)))"
   ]
  },
  {
   "cell_type": "markdown",
   "metadata": {},
   "source": [
    "### 8. Try improving your model further. Here are a few ideas:\n",
    "* try other machine learning algorithms\n",
    "* add other features besides the TF-IDF"
   ]
  },
  {
   "cell_type": "code",
   "execution_count": 26,
   "metadata": {},
   "outputs": [
    {
     "name": "stdout",
     "output_type": "stream",
     "text": [
      "________________________________________________________________________________\n",
      "Training: \n",
      "Vectorizer:  CountVectorizer\n",
      "\n",
      "Classifier:  KNeighborsClassifier\n",
      "\n",
      "train time: 24.652s\n",
      "precision:   0.664\n",
      "\n",
      "Classifier:  RandomForestClassifier\n",
      "\n"
     ]
    },
    {
     "name": "stderr",
     "output_type": "stream",
     "text": [
      "/opt/conda/lib/python3.6/site-packages/sklearn/metrics/classification.py:1135: UndefinedMetricWarning: Precision is ill-defined and being set to 0.0 in labels with no predicted samples.\n",
      "  'precision', 'predicted', average, warn_for)\n"
     ]
    },
    {
     "name": "stdout",
     "output_type": "stream",
     "text": [
      "train time: 51.317s\n",
      "precision:   0.702\n",
      "\n",
      "________________________________________________________________________________\n",
      "Training: \n",
      "Vectorizer:  HashingVectorizer\n",
      "\n",
      "Classifier:  KNeighborsClassifier\n",
      "\n"
     ]
    },
    {
     "name": "stderr",
     "output_type": "stream",
     "text": [
      "/opt/conda/lib/python3.6/site-packages/sklearn/metrics/classification.py:1135: UndefinedMetricWarning: Precision is ill-defined and being set to 0.0 in labels with no predicted samples.\n",
      "  'precision', 'predicted', average, warn_for)\n"
     ]
    },
    {
     "name": "stdout",
     "output_type": "stream",
     "text": [
      "train time: 23.918s\n",
      "precision:   0.664\n",
      "\n",
      "Classifier:  RandomForestClassifier\n",
      "\n"
     ]
    },
    {
     "name": "stderr",
     "output_type": "stream",
     "text": [
      "/opt/conda/lib/python3.6/site-packages/sklearn/metrics/classification.py:1135: UndefinedMetricWarning: Precision is ill-defined and being set to 0.0 in labels with no predicted samples.\n",
      "  'precision', 'predicted', average, warn_for)\n"
     ]
    },
    {
     "name": "stdout",
     "output_type": "stream",
     "text": [
      "train time: 348.953s\n",
      "precision:   0.711\n",
      "\n"
     ]
    },
    {
     "name": "stderr",
     "output_type": "stream",
     "text": [
      "/opt/conda/lib/python3.6/site-packages/sklearn/metrics/classification.py:1135: UndefinedMetricWarning: Precision is ill-defined and being set to 0.0 in labels with no predicted samples.\n",
      "  'precision', 'predicted', average, warn_for)\n"
     ]
    }
   ],
   "source": [
    "vectorizers = [CountVectorizer(tokenizer=tokenize),HashingVectorizer(tokenizer=tokenize)]\n",
    "classifiers = [KNeighborsClassifier(n_neighbors=36),\n",
    "               RandomForestClassifier()]\n",
    "for v in vectorizers:\n",
    "    t0 = time()\n",
    "    print('_' * 80)\n",
    "    print(\"Training: \")\n",
    "    print(\"Vectorizer: \",type(v).__name__)\n",
    "    #print(type(v).__name__)\n",
    "    print()\n",
    "    for c in classifiers:\n",
    "        print(\"Classifier: \",type(c).__name__)\n",
    "        print()\n",
    "        pipeline = Pipeline([\n",
    "                  ('vect', v),\n",
    "                  ('tfidf', TfidfTransformer()),\n",
    "                  ('clf' , c)\n",
    "                    ])\n",
    "        # train classifier\n",
    "        pipeline.fit(X_train, y_train)\n",
    "\n",
    "        # predict on test data\n",
    "        y_pred = pipeline.predict(X_test)\n",
    "        train_time = time() - t0\n",
    "        print(\"train time: %0.3fs\" % train_time)\n",
    "        score = precision_score(y_test[y_test.columns[1:]].values,y_pred[:, 1:],average='weighted')\n",
    "        print(\"precision:   %0.3f\" % score)    \n",
    "        print()"
   ]
  },
  {
   "cell_type": "code",
   "execution_count": 29,
   "metadata": {},
   "outputs": [],
   "source": [
    "pipeline2 = Pipeline([\n",
    "        ('vect', HashingVectorizer(tokenizer=tokenize)),\n",
    "        ('tfidf', TfidfTransformer()),\n",
    "        ('clf' , MultiOutputClassifier(RandomForestClassifier()))\n",
    "    ])"
   ]
  },
  {
   "cell_type": "code",
   "execution_count": 30,
   "metadata": {},
   "outputs": [],
   "source": [
    "# train classifier\n",
    "pipeline2.fit(X_train, y_train)\n",
    "\n",
    "# predict on test data\n",
    "y_pred = pipeline2.predict(X_test)"
   ]
  },
  {
   "cell_type": "code",
   "execution_count": 31,
   "metadata": {},
   "outputs": [
    {
     "name": "stdout",
     "output_type": "stream",
     "text": [
      "                                 precision    recall  f1-score   support\n",
      "\n",
      "               request_category       0.82      0.30      0.44      1117\n",
      "                 offer_category       0.00      0.00      0.00        28\n",
      "           aid_related_category       0.75      0.44      0.55      2732\n",
      "          medical_help_category       0.64      0.03      0.06       533\n",
      "      medical_products_category       0.67      0.02      0.04       317\n",
      "     search_and_rescue_category       1.00      0.02      0.03       188\n",
      "              security_category       0.33      0.01      0.02       117\n",
      "              military_category       0.00      0.00      0.00       216\n",
      "           child_alone_category       0.00      0.00      0.00         0\n",
      "                 water_category       0.92      0.13      0.22       433\n",
      "                  food_category       0.88      0.18      0.29       720\n",
      "               shelter_category       0.89      0.10      0.18       556\n",
      "              clothing_category       0.67      0.02      0.04        94\n",
      "                 money_category       1.00      0.02      0.05       171\n",
      "        missing_people_category       1.00      0.01      0.02        88\n",
      "              refugees_category       1.00      0.00      0.01       234\n",
      "                 death_category       0.50      0.01      0.03       304\n",
      "             other_aid_category       0.54      0.02      0.03       860\n",
      "infrastructure_related_category       0.00      0.00      0.00       422\n",
      "             transport_category       0.67      0.01      0.01       325\n",
      "             buildings_category       0.89      0.02      0.05       335\n",
      "           electricity_category       1.00      0.01      0.01       139\n",
      "                 tools_category       0.00      0.00      0.00        34\n",
      "             hospitals_category       0.00      0.00      0.00        71\n",
      "                 shops_category       0.00      0.00      0.00        24\n",
      "           aid_centers_category       0.00      0.00      0.00        71\n",
      "  other_infrastructure_category       1.00      0.00      0.01       294\n",
      "       weather_related_category       0.85      0.34      0.48      1848\n",
      "                floods_category       0.81      0.06      0.12       547\n",
      "                 storm_category       0.74      0.09      0.17       607\n",
      "                  fire_category       0.00      0.00      0.00        69\n",
      "            earthquake_category       0.90      0.33      0.49       620\n",
      "                  cold_category       0.00      0.00      0.00       138\n",
      "         other_weather_category       0.33      0.00      0.01       347\n",
      "         direct_report_category       0.80      0.24      0.37      1278\n",
      "\n",
      "                    avg / total       0.73      0.19      0.27     15877\n",
      "\n"
     ]
    },
    {
     "name": "stderr",
     "output_type": "stream",
     "text": [
      "/opt/conda/lib/python3.6/site-packages/sklearn/metrics/classification.py:1135: UndefinedMetricWarning: Precision and F-score are ill-defined and being set to 0.0 in labels with no predicted samples.\n",
      "  'precision', 'predicted', average, warn_for)\n",
      "/opt/conda/lib/python3.6/site-packages/sklearn/metrics/classification.py:1137: UndefinedMetricWarning: Recall and F-score are ill-defined and being set to 0.0 in labels with no true samples.\n",
      "  'recall', 'true', average, warn_for)\n"
     ]
    }
   ],
   "source": [
    "# calculate and print classification performance for each category\n",
    "print(classification_report(y_test[y_test.columns[1:]].values,y_pred[:, 1:],target_names =labels[1:]))"
   ]
  },
  {
   "cell_type": "markdown",
   "metadata": {},
   "source": [
    "### 9. Export your model as a pickle file"
   ]
  },
  {
   "cell_type": "code",
   "execution_count": null,
   "metadata": {},
   "outputs": [],
   "source": [
    "#pickle.dump(cv, open('model.pickle', 'wb'))"
   ]
  },
  {
   "cell_type": "markdown",
   "metadata": {},
   "source": [
    "### 10. Use this notebook to complete `train.py`\n",
    "Use the template file attached in the Resources folder to write a script that runs the steps above to create a database and export a model based on a new dataset specified by the user."
   ]
  },
  {
   "cell_type": "code",
   "execution_count": null,
   "metadata": {},
   "outputs": [],
   "source": []
  }
 ],
 "metadata": {
  "kernelspec": {
   "display_name": "Python 3",
   "language": "python",
   "name": "python3"
  },
  "language_info": {
   "codemirror_mode": {
    "name": "ipython",
    "version": 3
   },
   "file_extension": ".py",
   "mimetype": "text/x-python",
   "name": "python",
   "nbconvert_exporter": "python",
   "pygments_lexer": "ipython3",
   "version": "3.7.5"
  }
 },
 "nbformat": 4,
 "nbformat_minor": 2
}
